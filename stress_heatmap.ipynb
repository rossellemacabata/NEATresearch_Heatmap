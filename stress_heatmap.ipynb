{
 "cells": [
  {
   "cell_type": "code",
   "execution_count": 17,
   "metadata": {
    "collapsed": false,
    "deletable": true,
    "editable": true
   },
   "outputs": [
    {
     "data": {
      "text/html": [
       "<script>requirejs.config({paths: { 'plotly': ['https://cdn.plot.ly/plotly-latest.min']},});if(!window.Plotly) {{require(['plotly'],function(plotly) {window.Plotly=plotly;});}}</script>"
      ],
      "text/plain": [
       "<IPython.core.display.HTML object>"
      ]
     },
     "metadata": {},
     "output_type": "display_data"
    }
   ],
   "source": [
    "import plotly.graph_objs as go\n",
    "from plotly.offline import download_plotlyjs, init_notebook_mode, plot, iplot\n",
    "init_notebook_mode(connected=True)\n",
    "\n",
    "import csv"
   ]
  },
  {
   "cell_type": "code",
   "execution_count": 18,
   "metadata": {
    "collapsed": false,
    "deletable": true,
    "editable": true
   },
   "outputs": [],
   "source": [
    "data_filename = \"6010.csv\"\n",
    "\n",
    "# Collect data\n",
    "csv_data = {}\n",
    "\n",
    "with open(data_filename) as f:\n",
    "    reader = csv.DictReader(f)\n",
    "    for row in reader:\n",
    "        date = row['date']\n",
    "        hour = row['hour']\n",
    "        stress = row['stress']\n",
    "        if date not in csv_data:\n",
    "            csv_data[date] = {}\n",
    "        \n",
    "        csv_data[date][hour] = stress"
   ]
  },
  {
   "cell_type": "code",
   "execution_count": 19,
   "metadata": {
    "collapsed": false,
    "deletable": true,
    "editable": true
   },
   "outputs": [
    {
     "ename": "IndentationError",
     "evalue": "expected an indented block (<ipython-input-19-b00a0fe864b2>, line 10)",
     "output_type": "error",
     "traceback": [
      "\u001b[0;36m  File \u001b[0;32m\"<ipython-input-19-b00a0fe864b2>\"\u001b[0;36m, line \u001b[0;32m10\u001b[0m\n\u001b[0;31m    data = [go.Heatmap(\u001b[0m\n\u001b[0m                       ^\u001b[0m\n\u001b[0;31mIndentationError\u001b[0m\u001b[0;31m:\u001b[0m expected an indented block\n"
     ]
    }
   ],
   "source": [
    "# Build Plotly Heatmap\n",
    "\n",
    "dates = [date for date in csv_data.keys()]\n",
    "hours = []\n",
    "stress = []\n",
    "for (date, hours) in csv_data.items():\n",
    "    for (hour, stress) in hours.items():\n",
    "#         print(date, hour, stress)\n",
    "\n",
    "data = [go.Heatmap(\n",
    "    z=stress,\n",
    "    x=hours,\n",
    "    y=dates,\n",
    "    colorscale='Viridis'\n",
    ")]\n",
    "    \n",
    "layout = go.Layout(\n",
    "    title=\"Stress Level by Hour\"\n",
    ")\n",
    "fig = go.Figure(data=data, layout=layout)\n",
    "\n",
    "# plot(fig, filename='test', auto_open=False, output_type='div')\n",
    "# iplot(fig)"
   ]
  }
 ],
 "metadata": {
  "kernelspec": {
   "display_name": "Python 3",
   "language": "python",
   "name": "python3"
  },
  "language_info": {
   "codemirror_mode": {
    "name": "ipython",
    "version": 3
   },
   "file_extension": ".py",
   "mimetype": "text/x-python",
   "name": "python",
   "nbconvert_exporter": "python",
   "pygments_lexer": "ipython3",
   "version": "3.6.0"
  }
 },
 "nbformat": 4,
 "nbformat_minor": 2
}
