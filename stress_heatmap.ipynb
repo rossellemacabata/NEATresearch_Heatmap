{
 "cells": [
  {
   "cell_type": "code",
   "execution_count": 28,
   "metadata": {
    "collapsed": false
   },
   "outputs": [
    {
     "data": {
      "text/html": [
       "<script>requirejs.config({paths: { 'plotly': ['https://cdn.plot.ly/plotly-latest.min']},});if(!window.Plotly) {{require(['plotly'],function(plotly) {window.Plotly=plotly;});}}</script>"
      ],
      "text/plain": [
       "<IPython.core.display.HTML object>"
      ]
     },
     "metadata": {},
     "output_type": "display_data"
    }
   ],
   "source": [
    "import plotly.graph_objs as go\n",
    "from plotly.offline import download_plotlyjs, init_notebook_mode, plot, iplot\n",
    "init_notebook_mode(connected=True)\n",
    "\n",
    "import csv"
   ]
  },
  {
   "cell_type": "code",
   "execution_count": 41,
   "metadata": {
    "collapsed": false
   },
   "outputs": [],
   "source": [
    "data_filename = \"6010.csv\"\n",
    "\n",
    "# Collect data\n",
    "csv_data = {}\n",
    "\n",
    "with open(data_filename) as f:\n",
    "    reader = csv.DictReader(f)\n",
    "    for row in reader:\n",
    "        date = row['date']\n",
    "        hour = row['hour']\n",
    "        stress = row['stress']\n",
    "        if date not in csv_data:\n",
    "            csv_data[date] = {}\n",
    "        \n",
    "        csv_data[date][hour] = stress"
   ]
  },
  {
   "cell_type": "code",
   "execution_count": 40,
   "metadata": {
    "collapsed": false
   },
   "outputs": [
    {
     "data": {
      "application/vnd.plotly.v1+json": {
       "data": [
        {
         "colorscale": "Viridis",
         "type": "heatmap",
         "x": [
          "05"
         ],
         "y": [
          "2014-12-17"
         ],
         "z": [
          "0.0581281827956989"
         ]
        },
        {
         "colorscale": "Viridis",
         "type": "heatmap",
         "x": [
          "10"
         ],
         "y": [
          "2014-12-17"
         ],
         "z": [
          "0.118139247671121"
         ]
        },
        {
         "colorscale": "Viridis",
         "type": "heatmap",
         "x": [
          "11"
         ],
         "y": [
          "2014-12-17"
         ],
         "z": [
          "0.163884557570261"
         ]
        },
        {
         "colorscale": "Viridis",
         "type": "heatmap",
         "x": [
          "13"
         ],
         "y": [
          "2014-12-17"
         ],
         "z": [
          "0.0973875151780805"
         ]
        },
        {
         "colorscale": "Viridis",
         "type": "heatmap",
         "x": [
          "14"
         ],
         "y": [
          "2014-12-17"
         ],
         "z": [
          "0.0864683492033377"
         ]
        },
        {
         "colorscale": "Viridis",
         "type": "heatmap",
         "x": [
          "15"
         ],
         "y": [
          "2014-12-17"
         ],
         "z": [
          "0.0921239343504391"
         ]
        },
        {
         "colorscale": "Viridis",
         "type": "heatmap",
         "x": [
          "16"
         ],
         "y": [
          "2014-12-17"
         ],
         "z": [
          "0.0761334515320642"
         ]
        },
        {
         "colorscale": "Viridis",
         "type": "heatmap",
         "x": [
          "17"
         ],
         "y": [
          "2014-12-17"
         ],
         "z": [
          "0.0677973938169324"
         ]
        },
        {
         "colorscale": "Viridis",
         "type": "heatmap",
         "x": [
          "18"
         ],
         "y": [
          "2014-12-17"
         ],
         "z": [
          "0.0391524493642142"
         ]
        },
        {
         "colorscale": "Viridis",
         "type": "heatmap",
         "x": [
          "19"
         ],
         "y": [
          "2014-12-17"
         ],
         "z": [
          "0.0450590667007846"
         ]
        },
        {
         "colorscale": "Viridis",
         "type": "heatmap",
         "x": [
          "20"
         ],
         "y": [
          "2014-12-17"
         ],
         "z": [
          "0.0509189173389595"
         ]
        },
        {
         "colorscale": "Viridis",
         "type": "heatmap",
         "x": [
          "21"
         ],
         "y": [
          "2014-12-17"
         ],
         "z": [
          "0.0790564013418726"
         ]
        },
        {
         "colorscale": "Viridis",
         "type": "heatmap",
         "x": [
          "06"
         ],
         "y": [
          "2014-12-18"
         ],
         "z": [
          "0.0656159752013899"
         ]
        },
        {
         "colorscale": "Viridis",
         "type": "heatmap",
         "x": [
          "07"
         ],
         "y": [
          "2014-12-18"
         ],
         "z": [
          "0.0694045869916072"
         ]
        },
        {
         "colorscale": "Viridis",
         "type": "heatmap",
         "x": [
          "08"
         ],
         "y": [
          "2014-12-18"
         ],
         "z": [
          "0.0517751940182055"
         ]
        },
        {
         "colorscale": "Viridis",
         "type": "heatmap",
         "x": [
          "09"
         ],
         "y": [
          "2014-12-18"
         ],
         "z": [
          "0.0369349960812254"
         ]
        },
        {
         "colorscale": "Viridis",
         "type": "heatmap",
         "x": [
          "12"
         ],
         "y": [
          "2014-12-18"
         ],
         "z": [
          "0.0764043306262683"
         ]
        },
        {
         "colorscale": "Viridis",
         "type": "heatmap",
         "x": [
          "22"
         ],
         "y": [
          "2014-11-24"
         ],
         "z": [
          "0.0118014291338583"
         ]
        }
       ],
       "layout": {
        "title": "Stress Level by Hour"
       }
      },
      "text/html": [
       "<div id=\"4a71a92f-e115-420f-8fa4-2bf8f99d8b10\" style=\"height: 525px; width: 100%;\" class=\"plotly-graph-div\"></div><script type=\"text/javascript\">require([\"plotly\"], function(Plotly) { window.PLOTLYENV=window.PLOTLYENV || {};window.PLOTLYENV.BASE_URL=\"https://plot.ly\";Plotly.newPlot(\"4a71a92f-e115-420f-8fa4-2bf8f99d8b10\", [{\"type\": \"heatmap\", \"z\": [\"0.0581281827956989\"], \"x\": [\"05\"], \"y\": [\"2014-12-17\"], \"colorscale\": \"Viridis\"}, {\"type\": \"heatmap\", \"z\": [\"0.118139247671121\"], \"x\": [\"10\"], \"y\": [\"2014-12-17\"], \"colorscale\": \"Viridis\"}, {\"type\": \"heatmap\", \"z\": [\"0.163884557570261\"], \"x\": [\"11\"], \"y\": [\"2014-12-17\"], \"colorscale\": \"Viridis\"}, {\"type\": \"heatmap\", \"z\": [\"0.0973875151780805\"], \"x\": [\"13\"], \"y\": [\"2014-12-17\"], \"colorscale\": \"Viridis\"}, {\"type\": \"heatmap\", \"z\": [\"0.0864683492033377\"], \"x\": [\"14\"], \"y\": [\"2014-12-17\"], \"colorscale\": \"Viridis\"}, {\"type\": \"heatmap\", \"z\": [\"0.0921239343504391\"], \"x\": [\"15\"], \"y\": [\"2014-12-17\"], \"colorscale\": \"Viridis\"}, {\"type\": \"heatmap\", \"z\": [\"0.0761334515320642\"], \"x\": [\"16\"], \"y\": [\"2014-12-17\"], \"colorscale\": \"Viridis\"}, {\"type\": \"heatmap\", \"z\": [\"0.0677973938169324\"], \"x\": [\"17\"], \"y\": [\"2014-12-17\"], \"colorscale\": \"Viridis\"}, {\"type\": \"heatmap\", \"z\": [\"0.0391524493642142\"], \"x\": [\"18\"], \"y\": [\"2014-12-17\"], \"colorscale\": \"Viridis\"}, {\"type\": \"heatmap\", \"z\": [\"0.0450590667007846\"], \"x\": [\"19\"], \"y\": [\"2014-12-17\"], \"colorscale\": \"Viridis\"}, {\"type\": \"heatmap\", \"z\": [\"0.0509189173389595\"], \"x\": [\"20\"], \"y\": [\"2014-12-17\"], \"colorscale\": \"Viridis\"}, {\"type\": \"heatmap\", \"z\": [\"0.0790564013418726\"], \"x\": [\"21\"], \"y\": [\"2014-12-17\"], \"colorscale\": \"Viridis\"}, {\"type\": \"heatmap\", \"z\": [\"0.0656159752013899\"], \"x\": [\"06\"], \"y\": [\"2014-12-18\"], \"colorscale\": \"Viridis\"}, {\"type\": \"heatmap\", \"z\": [\"0.0694045869916072\"], \"x\": [\"07\"], \"y\": [\"2014-12-18\"], \"colorscale\": \"Viridis\"}, {\"type\": \"heatmap\", \"z\": [\"0.0517751940182055\"], \"x\": [\"08\"], \"y\": [\"2014-12-18\"], \"colorscale\": \"Viridis\"}, {\"type\": \"heatmap\", \"z\": [\"0.0369349960812254\"], \"x\": [\"09\"], \"y\": [\"2014-12-18\"], \"colorscale\": \"Viridis\"}, {\"type\": \"heatmap\", \"z\": [\"0.0764043306262683\"], \"x\": [\"12\"], \"y\": [\"2014-12-18\"], \"colorscale\": \"Viridis\"}, {\"type\": \"heatmap\", \"z\": [\"0.0118014291338583\"], \"x\": [\"22\"], \"y\": [\"2014-11-24\"], \"colorscale\": \"Viridis\"}], {\"title\": \"Stress Level by Hour\"}, {\"showLink\": true, \"linkText\": \"Export to plot.ly\"})});</script>"
      ]
     },
     "metadata": {},
     "output_type": "display_data"
    }
   ],
   "source": [
    "# Build Plotly Heatmap\n",
    "\n",
    "dates = [date for date in csv_data.keys()]\n",
    "hours = []\n",
    "stress = []\n",
    "for (date, hours) in csv_data.items():\n",
    "    for (hour, stress) in hours.items():\n",
    "#         print(date, hour, stress)\n",
    "\n",
    "data = [go.Heatmap(\n",
    "    z=stress,\n",
    "    x=hours,\n",
    "    y=dates,\n",
    "    colorscale='Viridis'\n",
    ")]\n",
    "    \n",
    "layout = go.Layout(\n",
    "    title=\"Stress Level by Hour\"\n",
    ")\n",
    "fig = go.Figure(data=data, layout=layout)\n",
    "\n",
    "# plot(fig, auto_open=False, output_type='div')\n",
    "iplot(fig)"
   ]
  }
 ],
 "metadata": {
  "kernelspec": {
   "display_name": "Python 3",
   "language": "python",
   "name": "python3"
  },
  "language_info": {
   "codemirror_mode": {
    "name": "ipython",
    "version": 3
   },
   "file_extension": ".py",
   "mimetype": "text/x-python",
   "name": "python",
   "nbconvert_exporter": "python",
   "pygments_lexer": "ipython3",
   "version": "3.6.0"
  }
 },
 "nbformat": 4,
 "nbformat_minor": 2
}
